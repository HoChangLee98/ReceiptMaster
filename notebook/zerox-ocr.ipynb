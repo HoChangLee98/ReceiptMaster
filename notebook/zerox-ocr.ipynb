{
 "cells": [
  {
   "cell_type": "code",
   "execution_count": null,
   "metadata": {},
   "outputs": [
    {
     "name": "stdout",
     "output_type": "stream",
     "text": [
      "Overwriting app.py\n"
     ]
    }
   ],
   "source": [
    "%%writefile app.py\n",
    "\n",
    "import streamlit as st\n",
    "\n",
    "import pandas as pd\n",
    "from io import BytesIO\n",
    "from pyxlsb import open_workbook as open_xlsb\n",
    "\n",
    "from PIL import Image\n",
    "\n",
    "\n",
    "def to_excel(df):\n",
    "    output = BytesIO()\n",
    "    with pd.ExcelWriter(output, engine='xlsxwriter') as writer:\n",
    "        df.to_excel(writer, index=False, sheet_name='Sheet1')\n",
    "        workbook = writer.book\n",
    "        worksheet = writer.sheets['Sheet1']\n",
    "        format1 = workbook.add_format({'num_format': '0.00'}) \n",
    "        worksheet.set_column('A:A', None, format1)  \n",
    "    processed_data = output.getvalue()\n",
    "    return processed_data\n",
    "\n",
    "def main():\n",
    "    st.write('## 영수증에서 정보 추출하기')\n",
    "\n",
    "    ## input 이미지 업로드 \n",
    "    img_file = st.file_uploader('이미지를 업로드 하세요.', type=['png', 'jpg', 'jpeg'])\n",
    "\n",
    "    # 파일이 업로드된 경우\n",
    "    if img_file is not None:\n",
    "        image = Image.open(img_file)\n",
    "\n",
    "        ## PaddleOCR으로 텍스트 추출\n",
    "        st.write('#### 텍스트 추출 중')\n",
    "        \n",
    "        ## Llama로 결과값 추출\n",
    "        st.write('#### 결과값 생성 중')\n",
    "                \n",
    "        data = {\n",
    "            \"상품명\": [\"제품A\", \"제품B\"],\n",
    "            \"가격\": [10000, 20000],\n",
    "            \"수량\": [2, 1]\n",
    "        }\n",
    "\n",
    "        ## 결과 xlsx, csv, md 중 하나로 추출\n",
    "        file_types = ['None', 'xlsx', 'csv', 'md']\n",
    "        choice = st.selectbox('다운받고 싶은 파일 유형을 선택하세요', file_types)\n",
    "\n",
    "        if choice == \"None\":\n",
    "            outputs = None\n",
    "            \n",
    "        elif choice == \"xlsx\":\n",
    "            outputs = pd.DataFrame(data)\n",
    "            st.dataframe(outputs)\n",
    "            df_xlsx = to_excel(outputs)\n",
    "            st.download_button(\n",
    "                \"xlsx 파일 다운로드\", \n",
    "                data=df_xlsx, \n",
    "                file_name=\"영수증_결과.xlsx\", \n",
    "                mime=\"application/vnd.openxmlformats-officedocument.spreadsheetml.sheet\"\n",
    "                )\n",
    "            \n",
    "        ### 해보다가 빼기\n",
    "        elif choice == \"csv\":\n",
    "            outputs = pd.DataFrame(data)\n",
    "            st.dataframe(outputs)\n",
    "            output_result = outputs.to_csv(index=False, encoding=\"utf-8\")\n",
    "            st.download_button(\n",
    "                \"CSV 파일 다운로드\", \n",
    "                data=output_result, \n",
    "                file_name=\"영수증_결과.csv\", \n",
    "                mime=\"text/csv\"\n",
    "                )\n",
    "            \n",
    "        elif choice == \"md\":\n",
    "            outputs = \"\"\"```markdown\n",
    "| 상품명 | 가격  | 수량 |\n",
    "|--------|-------|------|\n",
    "| 제품A  | 10000 | 2    |\n",
    "| 제품B  | 20000 | 1    |\n",
    "```\"\"\"\n",
    "            st.markdown(outputs)\n",
    "\n",
    "if __name__ == \"__main__\":\n",
    "    main()        "
   ]
  },
  {
   "cell_type": "code",
   "execution_count": 41,
   "metadata": {},
   "outputs": [
    {
     "name": "stdout",
     "output_type": "stream",
     "text": [
      "Password/Enpoint IP for localtunnel is: 218.146.174.152\n"
     ]
    }
   ],
   "source": [
    "import urllib\n",
    "password_ip = urllib.request.urlopen('https://ipv4.icanhazip.com').read().decode('utf8').strip(\"\\n\")\n",
    "print(\"Password/Enpoint IP for localtunnel is:\", password_ip)"
   ]
  },
  {
   "cell_type": "code",
   "execution_count": 42,
   "metadata": {},
   "outputs": [
    {
     "name": "stdout",
     "output_type": "stream",
     "text": [
      "^C\n"
     ]
    }
   ],
   "source": [
    "!streamlit run app.py"
   ]
  },
  {
   "cell_type": "code",
   "execution_count": null,
   "metadata": {},
   "outputs": [],
   "source": []
  }
 ],
 "metadata": {
  "kernelspec": {
   "display_name": "zero-ocr",
   "language": "python",
   "name": "python3"
  },
  "language_info": {
   "codemirror_mode": {
    "name": "ipython",
    "version": 3
   },
   "file_extension": ".py",
   "mimetype": "text/x-python",
   "name": "python",
   "nbconvert_exporter": "python",
   "pygments_lexer": "ipython3",
   "version": "3.11.10"
  }
 },
 "nbformat": 4,
 "nbformat_minor": 2
}
